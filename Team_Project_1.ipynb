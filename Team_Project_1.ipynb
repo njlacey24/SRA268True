{
  "nbformat": 4,
  "nbformat_minor": 0,
  "metadata": {
    "colab": {
      "name": "Untitled1.ipynb",
      "provenance": [],
      "collapsed_sections": []
    },
    "kernelspec": {
      "name": "python3",
      "display_name": "Python 3"
    }
  },
  "cells": [
    {
      "cell_type": "markdown",
      "metadata": {
        "id": "XeFU9cX4t7Qv",
        "colab_type": "text"
      },
      "source": [
        "## Title: Team Project 1"
      ]
    },
    {
      "cell_type": "markdown",
      "metadata": {
        "id": "sTWWY3iGt-yx",
        "colab_type": "text"
      },
      "source": [
        "#### Creators\n",
        "\n",
        "\n",
        "*   Ahaan Bagwe\n",
        "*   Nicholas Lacey\n",
        "*   Dylan Winick\n"
      ]
    },
    {
      "cell_type": "markdown",
      "metadata": {
        "id": "2lCS8JgXuRtx",
        "colab_type": "text"
      },
      "source": [
        "### Original Project (Lab Assignment 1)"
      ]
    },
    {
      "cell_type": "markdown",
      "metadata": {
        "id": "d9PrGZHwuaRH",
        "colab_type": "text"
      },
      "source": [
        "This project seeks to show the average snowfall in each month over the course of the years 2017, 2018, and 2019.  This data will be represented in the form of a graph, which will highlight which months receive the most snow on average each year.  This graph is to be created using MS Paint to insure that the depiction is clear.\n",
        "\n",
        "\n",
        "\n",
        "Based on the data provided, it is easy to conclude that the heaviest snow months are during the winter, while the least snowy months are in the summer, as anticipated.  What is interesting is that there is more snow in the spring in state college than there is in the fall, when it is usually seen as colder.  This can be noted in the amount of snow seen in March and April, as opposed to only in November, the only fall month to see snow."
      ]
    },
    {
      "cell_type": "markdown",
      "metadata": {
        "id": "spMAXOaNubmP",
        "colab_type": "text"
      },
      "source": [
        "### Team Project 1\n"
      ]
    },
    {
      "cell_type": "markdown",
      "metadata": {
        "id": "haT5sjkaumeh",
        "colab_type": "text"
      },
      "source": [
        "![alt text](https://drive.google.com/uc?id=0B84k13zsZAMWWXRQbGpXQkEtN0l2ZEtzTnlab0s5VmpyRlhn)"
      ]
    },
    {
      "cell_type": "markdown",
      "metadata": {
        "id": "NUkXv0oDuu2o",
        "colab_type": "text"
      },
      "source": [
        "### The Good"
      ]
    },
    {
      "cell_type": "markdown",
      "metadata": {
        "id": "kicbNow0tFTS",
        "colab_type": "text"
      },
      "source": [
        "This graph is very similar to \"The Ugly\" except, of course, the visualization. It displays the same information and data concerning the sums of snowfall accumulation per month, but the visuals are distinctly different. Firstly, the color is much easier on the eyes and not distracting from the data. Secondly, the line thickness makes it easy to see the values correctly and is aided with labels. Lastly, we added a trend line to give the viewers a reference point on what the average sum of snowfall is for all of the months. We believe it adds a nice touch to our visualization and allows for a baseline judgement of the data."
      ]
    },
    {
      "cell_type": "markdown",
      "metadata": {
        "id": "qPSy2QJ1u2NV",
        "colab_type": "text"
      },
      "source": [
        "![alt text](https://drive.google.com/uc?id=131EmQaKsxMaKrYPO4hptN_nlQxaYqTuF)"
      ]
    },
    {
      "cell_type": "markdown",
      "metadata": {
        "id": "NwyZsSxguyML",
        "colab_type": "text"
      },
      "source": [
        "### The Bad"
      ]
    },
    {
      "cell_type": "markdown",
      "metadata": {
        "id": "eTrZNunTxJ6O",
        "colab_type": "text"
      },
      "source": [
        "This graph, while containing all of the data of the other graphs, is virtually incoherent and misleading.  First, it is impossible to determine which color matches to which month, making the image unclear.  Next, the color scheme, which would usually correlate to a warming of temperatures, has to actual meaning, thus further confusing the viewer.  The viewer would be more liekly to view this data as the amount of snow at different temperatures, rather than a viewing of the amount of snow seen in each month."
      ]
    },
    {
      "cell_type": "markdown",
      "metadata": {
        "id": "CCknbjeZu6CK",
        "colab_type": "text"
      },
      "source": [
        "![alt text](https://drive.google.com/uc?id=1pS0zLMBa_9liMy4Ir5f6swvQR1yUef4g)"
      ]
    },
    {
      "cell_type": "markdown",
      "metadata": {
        "id": "jV7b-meTuz-H",
        "colab_type": "text"
      },
      "source": [
        "### The Ugly"
      ]
    },
    {
      "cell_type": "markdown",
      "metadata": {
        "id": "lwguNSX6u8vL",
        "colab_type": "text"
      },
      "source": [
        "This visualisation gives us everything we need to know. It clearly tells us which months are being measured during the year, as well as the amount of snow that each month receives. However, the graph itself is extremely visually unpleasing to look at. The color used for this graph is a distinctly garish electric green, which doesn't quite sit well on the eyes. Furthermore, the line itself is very thick, looking as though a child made it with a marker."
      ]
    },
    {
      "cell_type": "markdown",
      "metadata": {
        "id": "FrLWjw4r0giN",
        "colab_type": "text"
      },
      "source": [
        "![alt text](https://drive.google.com/uc?id=1dxnNJcfHW-LCEcWe9xpi-yvqOfGritnJ)"
      ]
    }
  ]
}