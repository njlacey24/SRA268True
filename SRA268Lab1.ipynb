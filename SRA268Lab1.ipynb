{
  "nbformat": 4,
  "nbformat_minor": 0,
  "metadata": {
    "colab": {
      "name": "SRA268Lab1",
      "provenance": [],
      "collapsed_sections": []
    },
    "kernelspec": {
      "name": "python3",
      "display_name": "Python 3"
    }
  },
  "cells": [
    {
      "cell_type": "markdown",
      "metadata": {
        "id": "vd_dy7m_4OUB",
        "colab_type": "text"
      },
      "source": [
        "#### 1. Is winter beginning and lasting later?\n",
        "#### 2. The purpose of my project is to compare average monthly max temperatures and see if there is a pattern concerning when the temperature starts decreasing over time. At least for me, I feel like winter is starting and ending later in the year so I wanted to see if this is true."
      ]
    },
    {
      "cell_type": "markdown",
      "metadata": {
        "id": "7-EIWU9k6LKE",
        "colab_type": "text"
      },
      "source": [
        "#### 3. "
      ]
    },
    {
      "cell_type": "markdown",
      "metadata": {
        "id": "eFMyhOAhBuw9",
        "colab_type": "text"
      },
      "source": [
        "![alt text](https://raw.githubusercontent.com/njlacey24/SRA268/master/images/Lab%201%20Graphic.png?token=ANHFDM656AOPAACOWXBX3Z26FMBPQ)"
      ]
    },
    {
      "cell_type": "markdown",
      "metadata": {
        "id": "rdsGEvz96NsS",
        "colab_type": "text"
      },
      "source": [
        "#### 4. I am not really sure what you are asking for with the conclusion. My conclusion is that I now know how to insert a picture in a Google Colaboratory environment and can effectly upload this file to Github."
      ]
    }
  ]
}