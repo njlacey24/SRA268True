{
  "nbformat": 4,
  "nbformat_minor": 0,
  "metadata": {
    "colab": {
      "name": "Copy of Lab2Template.ipynb",
      "provenance": [],
      "collapsed_sections": []
    },
    "kernelspec": {
      "name": "python3",
      "display_name": "Python 3"
    }
  },
  "cells": [
    {
      "cell_type": "markdown",
      "metadata": {
        "id": "6sOc4Uyr4U-Z",
        "colab_type": "text"
      },
      "source": [
        "## Graph Types"
      ]
    },
    {
      "cell_type": "markdown",
      "metadata": {
        "id": "0zZdVLAd5CYr",
        "colab_type": "text"
      },
      "source": [
        "Creator\n",
        "* Nicholas Lacey"
      ]
    },
    {
      "cell_type": "markdown",
      "metadata": {
        "id": "g-r6Clq45Hn4",
        "colab_type": "text"
      },
      "source": [
        "### Deviation\n"
      ]
    },
    {
      "cell_type": "markdown",
      "metadata": {
        "id": "2gorxo6E7A0t",
        "colab_type": "text"
      },
      "source": [
        "![alt text](https://drive.google.com/uc?id=1N07DlIre4aq-oiti2OTlJ_gITeXRXTtA)"
      ]
    },
    {
      "cell_type": "markdown",
      "metadata": {
        "id": "w6bZ_NEi7E3w",
        "colab_type": "text"
      },
      "source": [
        "#### What is this telling us?"
      ]
    },
    {
      "cell_type": "markdown",
      "metadata": {
        "id": "95L-spaC7QHF",
        "colab_type": "text"
      },
      "source": [
        "This divering bar chart is telling us a story about how the per year average points scored by the winning team compares to the average for the entire data set. The bars to the left show that, on average, the winning teams that year scored less points than the average for the entire data. I think diverging bar charts give this visualization an interesting perspective if you add some color to the bars like I did to emphasize how great the difference was. There were years where the average points scored by the winning teams was well above the dataset average and using diverging bars really helps to emphasize those differences."
      ]
    },
    {
      "cell_type": "markdown",
      "metadata": {
        "id": "YgXyXjmz7cDP",
        "colab_type": "text"
      },
      "source": [
        "### Correlation\n"
      ]
    },
    {
      "cell_type": "markdown",
      "metadata": {
        "id": "SGx15rZq7hvt",
        "colab_type": "text"
      },
      "source": [
        "![alt text](https://drive.google.com/uc?id=1rmOlWFFyde87ZKf1bcaOWWt-BIAcYPr_)"
      ]
    },
    {
      "cell_type": "markdown",
      "metadata": {
        "id": "dljjONNi7jmj",
        "colab_type": "text"
      },
      "source": [
        "#### What is this telling us?"
      ]
    },
    {
      "cell_type": "markdown",
      "metadata": {
        "id": "PwZEZrFB7laG",
        "colab_type": "text"
      },
      "source": [
        "This scatterplot is showing us the relationship between average points on the losing team and average points on the winning team. I chose these two values specifically because it would create a drastic visualization at the y=x line. There obviously can't be any values below that line because then the other team would have won. I also edited the colors non-stepped because I didn't want to group any categories together. I wanted to show the gradient from a team losing by a little (green) to teams losing by a significant margin (red). I think this also help highlights team efforts by showing that just because a winning team scored a lot of points doesn't mean that the winning team dominated the losing team."
      ]
    },
    {
      "cell_type": "markdown",
      "metadata": {
        "id": "MqUdI-uL7r2s",
        "colab_type": "text"
      },
      "source": [
        "### Ranking\n"
      ]
    },
    {
      "cell_type": "markdown",
      "metadata": {
        "id": "AvlxCOVt7x9F",
        "colab_type": "text"
      },
      "source": [
        "![alt text](https://drive.google.com/uc?id=1mnOzshXL4rhgET52ahO8IlYe_qRrX1L3)"
      ]
    },
    {
      "cell_type": "markdown",
      "metadata": {
        "id": "lCAYtfza7yTq",
        "colab_type": "text"
      },
      "source": [
        "#### What is this telling us?"
      ]
    },
    {
      "cell_type": "markdown",
      "metadata": {
        "id": "MyuciD277ygU",
        "colab_type": "text"
      },
      "source": [
        "This graph is a little silly but I wanted to look at the date of the week and see how losing teams performed on different days. According to the ranking, the teams that lost games scored, on average, more points on a Monday game and scored the least points on a Wednesday game. This is an interesting relationship that I didn't think would be present but I would love to find some confounding variables to see why this relationship exists. "
      ]
    },
    {
      "cell_type": "markdown",
      "metadata": {
        "id": "dGDGl8-G7y8Y",
        "colab_type": "text"
      },
      "source": [
        "### Distribution\n"
      ]
    },
    {
      "cell_type": "markdown",
      "metadata": {
        "id": "FB0uV-jy76p9",
        "colab_type": "text"
      },
      "source": [
        "![alt text](https://drive.google.com/uc?id=1Mhv9jPGYHemdzBmxqbztLckAGN4IPxRR)"
      ]
    },
    {
      "cell_type": "markdown",
      "metadata": {
        "id": "_6SOzhrQ76zH",
        "colab_type": "text"
      },
      "source": [
        "#### What is this telling us?"
      ]
    },
    {
      "cell_type": "markdown",
      "metadata": {
        "id": "HBWqsS_g767h",
        "colab_type": "text"
      },
      "source": [
        "I'm a bit of a geography nerd, so I for the distribution type of visual, I wanted to look at how the regions that held the winners of the game compared in average numbed of points per game. I was hoping to see a region dominate the other regions, but the boxplots offer a different story. There are slight differences between each of the boxplots, but they are largely the same. This is telling us both that there isn't a dominant region within college basketball but also most of the college basketball teams are consistent with other teams, with a few outliers here and there."
      ]
    },
    {
      "cell_type": "markdown",
      "metadata": {
        "id": "wQsDThk677Fy",
        "colab_type": "text"
      },
      "source": [
        "### Change over Time\n"
      ]
    },
    {
      "cell_type": "markdown",
      "metadata": {
        "id": "Z1j_YLOA7_OK",
        "colab_type": "text"
      },
      "source": [
        "![alt text](https://drive.google.com/uc?id=1ATtIrJYQfb34sx0Jp1hNbg3cOswtaHXz)"
      ]
    },
    {
      "cell_type": "markdown",
      "metadata": {
        "id": "mpfsmmgi7_Vj",
        "colab_type": "text"
      },
      "source": [
        "#### What is this telling us?"
      ]
    },
    {
      "cell_type": "markdown",
      "metadata": {
        "id": "rYLXoMMO7_di",
        "colab_type": "text"
      },
      "source": [
        "The change over time graph has to be one of my favorites. This graph shows us the difference in the winning scores and losing scores per year with a trend line added on top. The goal of this graph was to see if the upper echelon teams were dominating the losing teams more as the years went on. The graph instead shows that this relationship has its ups and downs. It seems as though every year, there is a 2-3 point difference from the previous year. I would have through the score difference would be increasing rather than flip-flopping back and forth."
      ]
    },
    {
      "cell_type": "markdown",
      "metadata": {
        "id": "lFwiHoE-7_jZ",
        "colab_type": "text"
      },
      "source": [
        "### Magnitude\n"
      ]
    },
    {
      "cell_type": "markdown",
      "metadata": {
        "id": "ICQFnXj78EbF",
        "colab_type": "text"
      },
      "source": [
        "![alt text](https://drive.google.com/uc?id=11hnAqT4eW3Zib2cvI5aQbUm6LsyD2DId)"
      ]
    },
    {
      "cell_type": "markdown",
      "metadata": {
        "id": "QGG7XYG88Eii",
        "colab_type": "text"
      },
      "source": [
        "#### What is this telling us?"
      ]
    },
    {
      "cell_type": "markdown",
      "metadata": {
        "id": "VS7uGa0l8Eos",
        "colab_type": "text"
      },
      "source": [
        "This graph is one of my favorites. This magnitude graph shows the average seed compared to the phylum of the mascot and shows a pretty compelling story. Obviously, the lower the seed, the higher rated the sports program is. I know this relationship doesn't make much rational sense, but it is an interesting relationship to point out. If I were picking a school based off their sports program and mascot, I would looking for some sort of flowering plant instead of a reptile."
      ]
    },
    {
      "cell_type": "markdown",
      "metadata": {
        "id": "bEKFxP8R8Evk",
        "colab_type": "text"
      },
      "source": [
        "### Part-to-Whole\n"
      ]
    },
    {
      "cell_type": "markdown",
      "metadata": {
        "id": "WFHlcYKV8E35",
        "colab_type": "text"
      },
      "source": [
        "![alt text](https://drive.google.com/uc?id=1QhSz19gXilrI0kdbERO7xnkxWg4TEQO-)"
      ]
    },
    {
      "cell_type": "markdown",
      "metadata": {
        "id": "PNSd3wlp8UZH",
        "colab_type": "text"
      },
      "source": [
        "#### What is this telling us?"
      ]
    },
    {
      "cell_type": "markdown",
      "metadata": {
        "id": "y9tb_QRA8aqt",
        "colab_type": "text"
      },
      "source": [
        "Please have mercy on me with this, I am still trying to figure out pie charts. This was supposed to show average points scored by region. I was wondering if there was a big difference for the winning team and how much they, on average, scored per game and compile that based off of their region. The goal was to see if there was a dominant region that continuously outscores other regions, but the results show that the four regions are relatively the same. Again, I am sorry that this one graph sucks."
      ]
    }
  ]
}